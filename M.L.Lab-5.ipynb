{
 "cells": [
  {
   "cell_type": "code",
   "execution_count": 1,
   "metadata": {},
   "outputs": [
    {
     "name": "stdout",
     "output_type": "stream",
     "text": [
      "enter x1 value:10\n",
      "enter x2 value:10\n",
      "0\n"
     ]
    }
   ],
   "source": [
    "x1 = input('enter x1 value:')\n",
    "x2 = input('enter x2 value:')\n",
    "\n",
    "if x1 == x2:\n",
    "    print(0)\n",
    "else:\n",
    "    print(1)"
   ]
  },
  {
   "cell_type": "code",
   "execution_count": 1,
   "metadata": {},
   "outputs": [
    {
     "ename": "error",
     "evalue": "OpenCV(4.5.3) C:\\Users\\runneradmin\\AppData\\Local\\Temp\\pip-req-build-q3d_8t8e\\opencv\\modules\\imgproc\\src\\color.cpp:182: error: (-215:Assertion failed) !_src.empty() in function 'cv::cvtColor'\n",
     "output_type": "error",
     "traceback": [
      "\u001b[1;31m---------------------------------------------------------------------------\u001b[0m",
      "\u001b[1;31merror\u001b[0m                                     Traceback (most recent call last)",
      "\u001b[1;32m<ipython-input-1-5da8bdd49d11>\u001b[0m in \u001b[0;36m<module>\u001b[1;34m\u001b[0m\n\u001b[0;32m      6\u001b[0m \u001b[1;33m\u001b[0m\u001b[0m\n\u001b[0;32m      7\u001b[0m \u001b[0mxor_img\u001b[0m \u001b[1;33m=\u001b[0m \u001b[0mcv2\u001b[0m\u001b[1;33m.\u001b[0m\u001b[0mbitwise_xor\u001b[0m\u001b[1;33m(\u001b[0m\u001b[0mimg2\u001b[0m\u001b[1;33m,\u001b[0m \u001b[0mimg1\u001b[0m\u001b[1;33m,\u001b[0m \u001b[0mmask\u001b[0m \u001b[1;33m=\u001b[0m \u001b[1;32mNone\u001b[0m\u001b[1;33m)\u001b[0m\u001b[1;33m\u001b[0m\u001b[1;33m\u001b[0m\u001b[0m\n\u001b[1;32m----> 8\u001b[1;33m \u001b[0mcv2\u001b[0m\u001b[1;33m.\u001b[0m\u001b[0mimshow\u001b[0m\u001b[1;33m(\u001b[0m\u001b[1;34m'Encryted Image'\u001b[0m\u001b[1;33m,\u001b[0m \u001b[0mxor_img\u001b[0m\u001b[1;33m)\u001b[0m\u001b[1;33m\u001b[0m\u001b[1;33m\u001b[0m\u001b[0m\n\u001b[0m\u001b[0;32m      9\u001b[0m \u001b[1;33m\u001b[0m\u001b[0m\n\u001b[0;32m     10\u001b[0m \u001b[0mde_img\u001b[0m \u001b[1;33m=\u001b[0m \u001b[0mcv2\u001b[0m\u001b[1;33m.\u001b[0m\u001b[0mbitwise_xor\u001b[0m\u001b[1;33m(\u001b[0m\u001b[0mxor_img\u001b[0m\u001b[1;33m,\u001b[0m \u001b[0mimg2\u001b[0m\u001b[1;33m,\u001b[0m \u001b[0mmask\u001b[0m \u001b[1;33m=\u001b[0m \u001b[1;32mNone\u001b[0m\u001b[1;33m)\u001b[0m\u001b[1;33m\u001b[0m\u001b[1;33m\u001b[0m\u001b[0m\n",
      "\u001b[1;31merror\u001b[0m: OpenCV(4.5.3) C:\\Users\\runneradmin\\AppData\\Local\\Temp\\pip-req-build-q3d_8t8e\\opencv\\modules\\imgproc\\src\\color.cpp:182: error: (-215:Assertion failed) !_src.empty() in function 'cv::cvtColor'\n"
     ]
    }
   ],
   "source": [
    "import cv2\n",
    "import numpy as np\n",
    "    \n",
    "img1 = cv2.imread(r'C:\\Users\\new\\Dropbox\\My PC (LAPTOP-VOB8LHM1)\\Einstein.jpg') \n",
    "img2 = cv2.imread(r'C:\\Users\\new\\Dropbox\\My PC (LAPTOP-VOB8LHM1)\\Hitler.jpg')\n",
    " \n",
    "xor_img = cv2.bitwise_xor(img2, img1, mask = None)\n",
    "cv2.imshow('Encryted Image', xor_img)\n",
    "  \n",
    "de_img = cv2.bitwise_xor(xor_img, img2, mask = None)\n",
    "cv2.imshow('Decryted Image', de_img)\n",
    "\n",
    "# de-allocating any associated memory usage \n",
    "if cv2.waitKey(0) & 0xff == 27:\n",
    "    cv2.destroyAllWindows()"
   ]
  },
  {
   "cell_type": "code",
   "execution_count": null,
   "metadata": {},
   "outputs": [],
   "source": [
    "import cv2\n",
    "import numpy as np\n",
    "\n",
    "I_1=cv2.imread(r\"C:\\Users\\new\\Dropbox\\My PC (LAPTOP-VOB8LHM1)\\Einstein.jpg\")\n",
    "I_2=cv2.imread(r\"C:\\Users\\new\\Dropbox\\My PC (LAPTOP-VOB8LHM1)\\Hitler.jpg\")\n",
    "\n",
    "xor_img=cv2.bitwise_xor(I_1,I_2, mask=None)\n",
    "cv2.imshow(\"Encrypted Image\",xor_img)\n",
    "\n",
    "de_img=cv2.bitwise_xor(xor_img,I_2, mask=None)\n",
    "cv2.imshow(\"Encrypted Image\",de_img)\n",
    "\n",
    "#de-allocating any associated memory usage\n",
    "if cv2.waitkey(0) & 0xff == 27:\n",
    "    cv2.destroyAllWindows()\n"
   ]
  },
  {
   "cell_type": "code",
   "execution_count": null,
   "metadata": {},
   "outputs": [],
   "source": [
    "imgplot=plt.imshow(I_1)\n",
    "imgplot=plt.imshow(I_2)\n",
    "plt.show()\n"
   ]
  },
  {
   "cell_type": "code",
   "execution_count": null,
   "metadata": {},
   "outputs": [],
   "source": [
    "I_2=cv2.imread(\"C:\\Users\\new\\Dropbox\\My PC (LAPTOP-VOB8LHM1)\\Hitler\")\n",
    "\n",
    "xor_img=cv2.bitwise_xor(I_1,I_2, mask=None)\n",
    "cv2.imshow(\"Encrypted Image\",xor_img)\n",
    "\n",
    "de_img=cv2.bitwise_xor(xor_img,I_2, mask=None)\n",
    "cv2.imshow(\"Encrypted Image\",de_img)\n",
    "\n",
    "#de-allocating any associated memory usage\n",
    "if cv2.waitkey(0) & 0xff == 27:\n",
    "    cv2.destroyAllWindows()\n"
   ]
  },
  {
   "cell_type": "code",
   "execution_count": null,
   "metadata": {},
   "outputs": [],
   "source": [
    "xor_img=cv2.bitwise_xor(I_1,I_2, mask=None)\n",
    "cv2.imshow(\"Encrypted Image\",xor_img)\n",
    "\n",
    "de_img=cv2.bitwise_xor(xor_img,I_2, mask=None)\n",
    "cv2.imshow(\"Encrypted Image\",de_img)\n",
    "\n",
    "#de-allocating any associated memory usage\n",
    "if cv2.waitkey(0) & 0xff == 27:\n",
    "    cv2.destroyAllWindows("
   ]
  },
  {
   "cell_type": "code",
   "execution_count": null,
   "metadata": {},
   "outputs": [],
   "source": [
    "Ir_1=cv2.resize(I_1,(500,500))\n",
    "cv2_imshow(I_1)"
   ]
  }
 ],
 "metadata": {
  "kernelspec": {
   "display_name": "Python 3",
   "language": "python",
   "name": "python3"
  },
  "language_info": {
   "codemirror_mode": {
    "name": "ipython",
    "version": 3
   },
   "file_extension": ".py",
   "mimetype": "text/x-python",
   "name": "python",
   "nbconvert_exporter": "python",
   "pygments_lexer": "ipython3",
   "version": "3.8.3"
  }
 },
 "nbformat": 4,
 "nbformat_minor": 4
}
