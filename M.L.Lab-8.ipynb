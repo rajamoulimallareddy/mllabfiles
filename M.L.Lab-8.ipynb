{
 "cells": [
  {
   "cell_type": "code",
   "execution_count": 8,
   "metadata": {},
   "outputs": [
    {
     "data": {
      "text/plain": [
       "92.08499894803282"
      ]
     },
     "execution_count": 8,
     "metadata": {},
     "output_type": "execute_result"
    }
   ],
   "source": [
    "import numpy as np \n",
    "import pandas as pd \n",
    "import matplotlib.pyplot as plt \n",
    "from sklearn.datasets import load_breast_cancer \n",
    "datasets = load_breast_cancer() \n",
    "X = datasets.data \n",
    "y = datasets.target \n",
    "from sklearn.model_selection import train_test_split\n",
    "X_train, X_test, y_train, y_test = train_test_split(X, y, test_size = 0.3)\n",
    "from sklearn.neighbors import KNeighborsClassifier \n",
    "knn = KNeighborsClassifier() \n",
    "knn.fit(X_train, y_train)\n",
    "# Accuracy of training data set \n",
    "knn.score(X_train, y_train)\n",
    "#Accuracy of test data set \n",
    "knn.score(X_test, y_test) \n",
    "#Accuracy of Overall dataset.\n",
    "knn.score(X, y)\n",
    "y_pred = knn.predict(X_test)\n",
    "y_pred1 = knn.predict(X_train) \n",
    "from sklearn.metrics import confusion_matrix \n",
    "cm = confusion_matrix(y_test, y_pred) \n",
    "cm1 = confusion_matrix(y_train, y_pred1) \n",
    "from sklearn.metrics import precision_score, recall_score, f1_score \n",
    "precision_score(y_test, y_pred, average= 'macro') \n",
    "recall_score(y_test, y_pred, average= 'macro') \n",
    "f1_score(y_test, y_pred, average= 'macro')*100"
   ]
  },
  {
   "cell_type": "code",
   "execution_count": null,
   "metadata": {},
   "outputs": [],
   "source": []
  }
 ],
 "metadata": {
  "kernelspec": {
   "display_name": "Python 3",
   "language": "python",
   "name": "python3"
  },
  "language_info": {
   "codemirror_mode": {
    "name": "ipython",
    "version": 3
   },
   "file_extension": ".py",
   "mimetype": "text/x-python",
   "name": "python",
   "nbconvert_exporter": "python",
   "pygments_lexer": "ipython3",
   "version": "3.8.3"
  }
 },
 "nbformat": 4,
 "nbformat_minor": 4
}
