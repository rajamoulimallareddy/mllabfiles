{
 "cells": [
  {
   "cell_type": "code",
   "execution_count": 1,
   "metadata": {},
   "outputs": [],
   "source": [
    "import numpy as np"
   ]
  },
  {
   "cell_type": "code",
   "execution_count": 5,
   "metadata": {},
   "outputs": [
    {
     "name": "stdout",
     "output_type": "stream",
     "text": [
      "A=\n",
      "[[1 2 3]\n",
      " [4 5 6]\n",
      " [7 8 9]]\n",
      "B=\n",
      "[[1 2 0]\n",
      " [3 4 2]\n",
      " [4 7 8]]\n"
     ]
    }
   ],
   "source": [
    "A = np.array([[1, 2, 3], [4, 5,6], [7, 8, 9]])\n",
    "B = np.array([[1, 2, 0], [3, 4,2], [4, 7, 8]])\n",
    "print(\"A=\")\n",
    "print(A)\n",
    "print(\"B=\")\n",
    "print(B)"
   ]
  },
  {
   "cell_type": "code",
   "execution_count": 6,
   "metadata": {},
   "outputs": [
    {
     "name": "stdout",
     "output_type": "stream",
     "text": [
      "Addition of two matrices: \n",
      "[[ 2  4  3]\n",
      " [ 7  9  8]\n",
      " [11 15 17]]\n"
     ]
    }
   ],
   "source": [
    "print (\"Addition of two matrices: \")\n",
    "print (np.add(A,B))"
   ]
  },
  {
   "cell_type": "code",
   "execution_count": 8,
   "metadata": {},
   "outputs": [
    {
     "name": "stdout",
     "output_type": "stream",
     "text": [
      "Subtraction of two matrices : \n",
      "[[0 0 3]\n",
      " [1 1 4]\n",
      " [3 1 1]]\n"
     ]
    }
   ],
   "source": [
    "print (\"Subtraction of two matrices : \")\n",
    "print (np.subtract(A,B))"
   ]
  },
  {
   "cell_type": "code",
   "execution_count": 10,
   "metadata": {},
   "outputs": [
    {
     "name": "stdout",
     "output_type": "stream",
     "text": [
      "Multiplication of two matrices: \n",
      "[[ 1  4  0]\n",
      " [12 20 12]\n",
      " [28 56 72]]\n"
     ]
    }
   ],
   "source": [
    "print (\"Multiplication of two matrices: \")\n",
    "print (np.multiply(A,B))"
   ]
  },
  {
   "cell_type": "code",
   "execution_count": 12,
   "metadata": {},
   "outputs": [
    {
     "name": "stdout",
     "output_type": "stream",
     "text": [
      "Matrix Division : \n",
      "[[1.         1.                inf]\n",
      " [1.33333333 1.25       3.        ]\n",
      " [1.75       1.14285714 1.125     ]]\n"
     ]
    },
    {
     "name": "stderr",
     "output_type": "stream",
     "text": [
      "<ipython-input-12-5f50083d903a>:2: RuntimeWarning: divide by zero encountered in true_divide\n",
      "  print (np.divide(A,B))\n"
     ]
    }
   ],
   "source": [
    "print (\"Matrix Division : \")\n",
    "print (np.divide(A,B))"
   ]
  },
  {
   "cell_type": "code",
   "execution_count": 14,
   "metadata": {},
   "outputs": [
    {
     "name": "stdout",
     "output_type": "stream",
     "text": [
      "Matrix transposition : \n",
      "A^T=\n",
      "[[1 4 7]\n",
      " [2 5 8]\n",
      " [3 6 9]]\n",
      "B^T=\n",
      "[[1 3 4]\n",
      " [2 4 7]\n",
      " [0 2 8]]\n"
     ]
    }
   ],
   "source": [
    "print (\"Matrix transposition : \")\n",
    "print(\"A^T=\")\n",
    "print (A.T)\n",
    "print(\"B^T=\")\n",
    "print (B.T)"
   ]
  },
  {
   "cell_type": "code",
   "execution_count": 26,
   "metadata": {},
   "outputs": [
    {
     "name": "stdout",
     "output_type": "stream",
     "text": [
      "The product of two matrices : \n",
      "[[ 19  31  28]\n",
      " [ 43  70  58]\n",
      " [ 67 109  88]]\n",
      "B*A\n",
      "[[  9  12  15]\n",
      " [ 33  42  51]\n",
      " [ 88 107 126]]\n"
     ]
    }
   ],
   "source": [
    "#matrix multiplication\n",
    "print (\"The product of two matrices : \")\n",
    "print (np.dot(A,B))\n",
    "print(\"B*A\")\n",
    "print (np.dot(B,A))"
   ]
  },
  {
   "cell_type": "code",
   "execution_count": 25,
   "metadata": {},
   "outputs": [
    {
     "name": "stdout",
     "output_type": "stream",
     "text": [
      "\n",
      "After removing the last column from the matrix A:\n",
      " [[1 2]\n",
      " [4 5]\n",
      " [7 8]]\n"
     ]
    }
   ],
   "source": [
    "print(\"\\nAfter removing the last column from the matrix A:\\n\",A[:,:-1])"
   ]
  },
  {
   "cell_type": "code",
   "execution_count": 17,
   "metadata": {},
   "outputs": [
    {
     "name": "stdout",
     "output_type": "stream",
     "text": [
      "\n",
      " section of A:\n",
      " [[5 6]\n",
      " [8 9]]\n"
     ]
    }
   ],
   "source": [
    "print(\"\\n section of A:\\n\",A[1:,1:])"
   ]
  },
  {
   "cell_type": "code",
   "execution_count": 27,
   "metadata": {},
   "outputs": [],
   "source": []
  },
  {
   "cell_type": "code",
   "execution_count": null,
   "metadata": {},
   "outputs": [],
   "source": []
  }
 ],
 "metadata": {
  "kernelspec": {
   "display_name": "Python 3",
   "language": "python",
   "name": "python3"
  },
  "language_info": {
   "codemirror_mode": {
    "name": "ipython",
    "version": 3
   },
   "file_extension": ".py",
   "mimetype": "text/x-python",
   "name": "python",
   "nbconvert_exporter": "python",
   "pygments_lexer": "ipython3",
   "version": "3.8.3"
  }
 },
 "nbformat": 4,
 "nbformat_minor": 4
}
