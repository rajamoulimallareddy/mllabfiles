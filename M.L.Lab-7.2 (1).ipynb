{
 "cells": [
  {
   "cell_type": "code",
   "execution_count": 1,
   "metadata": {},
   "outputs": [],
   "source": [
    "#import required libraries\n",
    "import numpy as np"
   ]
  },
  {
   "cell_type": "code",
   "execution_count": 3,
   "metadata": {},
   "outputs": [
    {
     "name": "stdout",
     "output_type": "stream",
     "text": [
      "[[0 0]\n",
      " [0 1]\n",
      " [1 0]\n",
      " [1 1]]\n",
      "[[0.1 0.2 0.3]\n",
      " [0.4 0.5 0.6]]\n",
      "[[0.7]\n",
      " [0.8]\n",
      " [0.9]]\n"
     ]
    }
   ],
   "source": [
    "# Define input features\n",
    "X = np.array([[0,0],[0,1],[1,0],[1,1]])\n",
    "print(X)\n",
    "\n",
    "#Define target outputs\n",
    "#Implementation of XOR gate\n",
    "Y_target = np.array([[0],[0],[0],[1]])\n",
    "\n",
    "#Assign Random weights\n",
    "#6 for hidden layer\n",
    "#3 for output layer\n",
    "W1 = np.array([[0.1,0.2,0.3],[0.4,0.5,0.6]])\n",
    "W2 = np.array([[0.7],[0.8],[0.9]])\n",
    "print(W1)\n",
    "print(W2)\n",
    "\n",
    "#Learning rate\n",
    "lr=0.05\n",
    "\n",
    "# Define activation function - Sigmoid function\n",
    "def sigmoid(x):\n",
    "  return 1/(1+np.exp(-x))\n",
    "\n",
    "#Define derivative of Activation Function - derivative of sigmoid Function\n",
    "def der_sigmoid(x):\n",
    "  return sigmoid(x)*(1-sigmoid(x))\n",
    "  "
   ]
  },
  {
   "cell_type": "code",
   "execution_count": 4,
   "metadata": {},
   "outputs": [
    {
     "name": "stdout",
     "output_type": "stream",
     "text": [
      "W2= [[-7.65164598]\n",
      " [-7.61737179]\n",
      " [ 3.90325132]]\n",
      "W1= [[ 1.01707804 -4.47053146  0.50334254]\n",
      " [-3.88883489  1.55940252  1.80528523]]\n"
     ]
    }
   ],
   "source": [
    "for epoch in range(20000):\n",
    "  #Forward propagation\n",
    "  Z = np.dot(X,W1)\n",
    "  H = sigmoid(Z)\n",
    "  U = np.dot(H,W2)\n",
    "  Y=sigmoid(U)\n",
    "  E=Y-Y_target\n",
    "  # Calculate Loss function (Mean Square error loss)\n",
    "  L=1/2*(np.power(E,2))\n",
    "  #print(output_error.sum())\n",
    "  #print(output_error)\n",
    "\n",
    "  # Backpropagation - Stage 1\n",
    "  dL_dY=Y-Y_target\n",
    "  dY_dU=Y*(1-Y)\n",
    "  dU_dW2=H\n",
    "  #print(dL_dY)\n",
    "  #print(dY_dU)\n",
    "  #print(dU_dW2)\n",
    "\n",
    "  dL_dW2=np.dot(dU_dW2.T,dL_dY*dY_dU)\n",
    "  \n",
    "\n",
    "  #Weight updates in stage 1\n",
    "\n",
    "  W2 -= lr*dL_dW2\n",
    "  #print(weight_output)\n",
    "\n",
    "  # Backpropagation - Stage 2\n",
    "  dL_dY=Y-Y_target\n",
    "  dY_dU=Y*(1-Y)\n",
    "  dU_dH=W2\n",
    "  dH_dZ=H*(1-H)\n",
    "  dZ_dW1=X \n",
    "  \n",
    "  dL_dH=np.dot(dL_dY*dY_dU,dU_dH.T)\n",
    "  dL_dW1=np.dot(dZ_dW1.T,dH_dZ*dL_dH)\n",
    "\n",
    "  #Weight updates in stage 2\n",
    "\n",
    "  W1 -= lr*dL_dW1\n",
    "  #print(weight_hidden)\n",
    "print(\"W2=\",W2)\n",
    "print(\"W1=\",W1)"
   ]
  },
  {
   "cell_type": "code",
   "execution_count": 5,
   "metadata": {},
   "outputs": [
    {
     "name": "stdout",
     "output_type": "stream",
     "text": [
      "[0.00339218]\n"
     ]
    }
   ],
   "source": [
    "#Testing input data point\n",
    "point=np.array([0,0])\n",
    "z=np.dot(point,W1)\n",
    "h=sigmoid(z)\n",
    "op=np.dot(h,W2)\n",
    "y_cap=sigmoid(op)\n",
    "print(y_cap)\n"
   ]
  },
  {
   "cell_type": "code",
   "execution_count": 6,
   "metadata": {},
   "outputs": [
    {
     "name": "stdout",
     "output_type": "stream",
     "text": [
      "[0.04329776]\n"
     ]
    }
   ],
   "source": [
    "#Testing input data point\n",
    "point=np.array([0,1])\n",
    "z=np.dot(point,W1)\n",
    "h=sigmoid(z)\n",
    "op=np.dot(h,W2)\n",
    "y_cap=sigmoid(op)\n",
    "print(y_cap)\n"
   ]
  },
  {
   "cell_type": "code",
   "execution_count": 7,
   "metadata": {},
   "outputs": [
    {
     "name": "stdout",
     "output_type": "stream",
     "text": [
      "[0.03651343]\n"
     ]
    }
   ],
   "source": [
    "#Testing input data point\n",
    "point=np.array([1,0])\n",
    "z=np.dot(point,W1)\n",
    "h=sigmoid(z)\n",
    "op=np.dot(h,W2)\n",
    "y_cap=sigmoid(op)\n",
    "print(y_cap)"
   ]
  },
  {
   "cell_type": "code",
   "execution_count": 8,
   "metadata": {},
   "outputs": [
    {
     "name": "stdout",
     "output_type": "stream",
     "text": [
      "[0.93976475]\n"
     ]
    }
   ],
   "source": [
    "#Testing input data point\n",
    "point=np.array([1,1])\n",
    "z=np.dot(point,W1)\n",
    "h=sigmoid(z)\n",
    "op=np.dot(h,W2)\n",
    "y_cap=sigmoid(op)\n",
    "print(y_cap)"
   ]
  },
  {
   "cell_type": "code",
   "execution_count": null,
   "metadata": {},
   "outputs": [],
   "source": []
  }
 ],
 "metadata": {
  "kernelspec": {
   "display_name": "Python 3",
   "language": "python",
   "name": "python3"
  },
  "language_info": {
   "codemirror_mode": {
    "name": "ipython",
    "version": 3
   },
   "file_extension": ".py",
   "mimetype": "text/x-python",
   "name": "python",
   "nbconvert_exporter": "python",
   "pygments_lexer": "ipython3",
   "version": "3.8.3"
  }
 },
 "nbformat": 4,
 "nbformat_minor": 4
}
