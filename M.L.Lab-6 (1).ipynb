{
 "cells": [
  {
   "cell_type": "markdown",
   "metadata": {},
   "source": [
    "PRINCIPAL COMPONENT ANALYSIS"
   ]
  },
  {
   "cell_type": "code",
   "execution_count": 1,
   "metadata": {},
   "outputs": [],
   "source": [
    "import pandas as pd\n",
    "import numpy as np\n",
    "import matplotlib.pyplot as plt\n",
    "from sklearn.decomposition import PCA\n",
    "from sklearn.preprocessing import StandardScaler\n",
    "%matplotlib inline\n"
   ]
  },
  {
   "cell_type": "code",
   "execution_count": 2,
   "metadata": {},
   "outputs": [
    {
     "name": "stdout",
     "output_type": "stream",
     "text": [
      "    brand     id   mois   prot    fat   ash  sodium   carb   cal\n",
      "0       A  14069  27.82  21.43  44.87  5.11    1.77   0.77  4.93\n",
      "1       A  14053  28.49  21.26  43.89  5.34    1.79   1.02  4.84\n",
      "2       A  14025  28.35  19.99  45.78  5.08    1.63   0.80  4.95\n",
      "3       A  14016  30.55  20.15  43.13  4.79    1.61   1.38  4.74\n",
      "4       A  14005  30.49  21.28  41.65  4.82    1.64   1.76  4.67\n",
      "..    ...    ...    ...    ...    ...   ...     ...    ...   ...\n",
      "295     J  34044  44.91  11.07  17.00  2.49    0.66  25.36  2.91\n",
      "296     J  24069  43.15  11.79  18.46  2.43    0.67  24.17  3.10\n",
      "297     J  34039  44.55  11.01  16.03  2.43    0.64  25.98  2.92\n",
      "298     J  14044  47.60  10.43  15.18  2.32    0.56  24.47  2.76\n",
      "299     J  14045  46.84   9.91  15.50  2.27    0.57  25.48  2.81\n",
      "\n",
      "[300 rows x 9 columns]\n",
      "Shape of data: (300, 9)\n"
     ]
    }
   ],
   "source": [
    "data=pd.read_csv(r\"C:\\Users\\new\\Dropbox\\My PC (LAPTOP-VOB8LHM1)\\Downloads\\pca_dataset.csv\")\n",
    "print(data)\n",
    "print(f\"Shape of data: {data.shape}\")"
   ]
  },
  {
   "cell_type": "code",
   "execution_count": 3,
   "metadata": {},
   "outputs": [
    {
     "data": {
      "text/plain": [
       "brand     False\n",
       "id        False\n",
       "mois      False\n",
       "prot      False\n",
       "fat       False\n",
       "ash       False\n",
       "sodium    False\n",
       "carb      False\n",
       "cal       False\n",
       "dtype: bool"
      ]
     },
     "execution_count": 3,
     "metadata": {},
     "output_type": "execute_result"
    }
   ],
   "source": [
    "# checking for null values\n",
    "data.isnull().any()"
   ]
  },
  {
   "cell_type": "code",
   "execution_count": 4,
   "metadata": {},
   "outputs": [
    {
     "name": "stdout",
     "output_type": "stream",
     "text": [
      "[[1.4069e+04 2.7820e+01 2.1430e+01 ... 5.1100e+00 1.7700e+00 7.7000e-01]\n",
      " [1.4053e+04 2.8490e+01 2.1260e+01 ... 5.3400e+00 1.7900e+00 1.0200e+00]\n",
      " [1.4025e+04 2.8350e+01 1.9990e+01 ... 5.0800e+00 1.6300e+00 8.0000e-01]\n",
      " ...\n",
      " [3.4039e+04 4.4550e+01 1.1010e+01 ... 2.4300e+00 6.4000e-01 2.5980e+01]\n",
      " [1.4044e+04 4.7600e+01 1.0430e+01 ... 2.3200e+00 5.6000e-01 2.4470e+01]\n",
      " [1.4045e+04 4.6840e+01 9.9100e+00 ... 2.2700e+00 5.7000e-01 2.5480e+01]]\n",
      "Shape of data: (300, 7)\n"
     ]
    }
   ],
   "source": [
    "x=data.iloc[:,1:-1].values\n",
    "y=data.iloc[:,-1].values\n",
    "print(x)\n",
    "print(f\"Shape of data: {x.shape}\")\n"
   ]
  },
  {
   "cell_type": "code",
   "execution_count": 5,
   "metadata": {},
   "outputs": [
    {
     "name": "stdout",
     "output_type": "stream",
     "text": [
      "[4.93 4.84 4.95 4.74 4.67 4.67 4.63 4.72 4.93 4.95 4.98 4.97 4.91 4.72\n",
      " 4.67 4.77 4.47 4.46 4.53 4.66 5.08 4.97 4.68 4.7  4.56 4.8  4.91 4.79\n",
      " 4.78 3.33 3.05 3.44 3.27 3.21 3.32 3.32 3.35 2.98 3.02 3.31 3.36 3.18\n",
      " 3.31 2.82 2.76 2.96 3.36 3.26 2.99 3.3  3.35 3.36 3.2  3.19 2.94 3.12\n",
      " 3.17 3.21 3.25 3.23 3.   2.78 2.96 2.87 3.09 2.91 2.64 2.87 2.73 2.61\n",
      " 2.51 2.91 3.01 2.99 3.02 2.98 2.86 2.58 3.05 2.91 2.58 2.83 2.67 2.78\n",
      " 3.18 2.66 2.94 3.2  3.28 2.99 2.91 3.02 3.12 2.98 2.96 2.78 3.02 3.03\n",
      " 3.02 2.9  2.95 2.95 2.91 2.99 2.95 2.94 2.97 2.99 2.95 2.88 3.23 2.82\n",
      " 2.93 2.94 3.24 3.26 3.22 3.2  2.58 3.38 3.33 3.33 2.59 3.31 2.58 3.23\n",
      " 3.19 3.27 3.26 3.08 3.22 3.52 3.6  3.42 3.12 3.1  3.42 3.3  3.21 3.46\n",
      " 3.4  3.54 3.57 3.49 2.85 3.08 3.26 3.74 3.5  3.46 3.76 3.75 3.47 3.6\n",
      " 3.37 3.47 3.53 3.7  3.52 3.75 3.5  3.72 3.71 3.78 3.49 3.96 3.43 3.36\n",
      " 3.35 3.59 3.53 3.67 3.62 3.65 3.73 3.77 3.4  3.59 3.56 3.39 3.57 3.8\n",
      " 3.65 3.6  3.61 3.64 3.63 3.52 3.51 3.56 3.23 3.89 3.61 3.57 3.6  3.59\n",
      " 3.48 3.66 3.58 3.49 3.77 3.79 3.59 3.79 3.39 3.6  3.09 3.5  3.3  2.83\n",
      " 3.33 3.34 2.56 3.33 3.41 3.34 2.61 3.53 3.24 3.22 3.11 3.2  3.2  3.3\n",
      " 3.38 3.21 3.23 3.47 3.33 3.22 3.31 3.28 3.39 3.23 3.12 3.46 2.93 3.18\n",
      " 3.23 2.37 2.42 2.42 2.45 2.52 2.28 2.25 2.33 2.35 2.52 2.41 2.48 2.33\n",
      " 2.4  2.31 2.39 2.37 2.36 2.36 2.45 2.39 2.4  2.4  2.43 2.18 2.4  2.41\n",
      " 2.41 2.35 2.86 2.97 2.76 2.81 2.87 2.72 2.93 2.88 2.92 2.77 2.89 2.76\n",
      " 2.83 2.85 2.91 2.78 3.14 2.81 2.96 2.92 2.79 2.91 2.88 2.78 2.92 2.94\n",
      " 3.05 2.91 3.1  2.92 2.76 2.81]\n"
     ]
    },
    {
     "data": {
      "text/plain": [
       "(300,)"
      ]
     },
     "execution_count": 5,
     "metadata": {},
     "output_type": "execute_result"
    }
   ],
   "source": [
    "print(y)\n",
    "y.shape"
   ]
  },
  {
   "cell_type": "code",
   "execution_count": 6,
   "metadata": {},
   "outputs": [
    {
     "data": {
      "text/plain": [
       "array([[-0.97421164, -1.37181459,  1.25418127, ...,  1.9538938 ,\n",
       "         2.97668662, -1.22751105],\n",
       "       [-0.97651337, -1.30156227,  1.22771661, ...,  2.13533826,\n",
       "         3.03077869, -1.21362189],\n",
       "       [-0.98054139, -1.31624186,  1.03000998, ...,  1.93022714,\n",
       "         2.59804213, -1.22584435],\n",
       "       ...,\n",
       "       [ 1.89863118,  0.3823963 , -0.36794707, ..., -0.16032853,\n",
       "        -0.07951534,  0.1730719 ],\n",
       "       [-0.97780809,  0.70220164, -0.45823828, ..., -0.24710631,\n",
       "        -0.29588362,  0.08918137],\n",
       "       [-0.97766423,  0.62251244, -0.53918903, ..., -0.28655076,\n",
       "        -0.26883759,  0.14529358]])"
      ]
     },
     "execution_count": 6,
     "metadata": {},
     "output_type": "execute_result"
    }
   ],
   "source": [
    "x_stand=StandardScaler().fit_transform(x)\n",
    "x_stand"
   ]
  },
  {
   "cell_type": "markdown",
   "metadata": {},
   "source": [
    "#Eigen Vectors ANd Values\n",
    "#The Eigenvectors (principal components) determine the directions of the new feature space, and the eigenvalues determine their magnitude."
   ]
  },
  {
   "cell_type": "code",
   "execution_count": 7,
   "metadata": {},
   "outputs": [
    {
     "data": {
      "text/plain": [
       "(300,)"
      ]
     },
     "execution_count": 7,
     "metadata": {},
     "output_type": "execute_result"
    }
   ],
   "source": [
    "y.shape"
   ]
  },
  {
   "cell_type": "code",
   "execution_count": 8,
   "metadata": {},
   "outputs": [
    {
     "name": "stdout",
     "output_type": "stream",
     "text": [
      "Covariance matrix \n",
      "\n"
     ]
    },
    {
     "data": {
      "text/plain": [
       "array([[ 1.00334448,  0.03270407, -0.07674126, -0.00487631, -0.03418551,\n",
       "        -0.01520677,  0.0150162 ],\n",
       "       [ 0.03270407,  1.00334448,  0.36145252, -0.17189118,  0.26644367,\n",
       "        -0.10262097, -0.59378092],\n",
       "       [-0.07674126,  0.36145252,  1.00334448,  0.49966723,  0.82659903,\n",
       "         0.43056473, -0.85639691],\n",
       "       [-0.00487631, -0.17189118,  0.49966723,  1.00334448,  0.79428157,\n",
       "         0.93644671, -0.64237943],\n",
       "       [-0.03418551,  0.26644367,  0.82659903,  0.79428157,  1.00334448,\n",
       "         0.8108249 , -0.90199502],\n",
       "       [-0.01520677, -0.10262097,  0.43056473,  0.93644671,  0.8108249 ,\n",
       "         1.00334448, -0.6222505 ],\n",
       "       [ 0.0150162 , -0.59378092, -0.85639691, -0.64237943, -0.90199502,\n",
       "        -0.6222505 ,  1.00334448]])"
      ]
     },
     "execution_count": 8,
     "metadata": {},
     "output_type": "execute_result"
    }
   ],
   "source": [
    "#mean_vec = np.mean(X_std, axis=0)\n",
    "#cov_mat = (X_std - mean_vec).T.dot((X_std - mean_vec)) / (X_std.shape[0]-1)\n",
    "#print('Covariance matrix \\n%s' %cov_mat)\n",
    "print('Covariance matrix \\n')\n",
    "cov_mat= np.cov(x_stand, rowvar=False)\n",
    "cov_mat\n"
   ]
  },
  {
   "cell_type": "code",
   "execution_count": 9,
   "metadata": {},
   "outputs": [
    {
     "data": {
      "text/plain": [
       "(300,)"
      ]
     },
     "execution_count": 9,
     "metadata": {},
     "output_type": "execute_result"
    }
   ],
   "source": [
    "y.shape"
   ]
  },
  {
   "cell_type": "code",
   "execution_count": 10,
   "metadata": {},
   "outputs": [
    {
     "name": "stdout",
     "output_type": "stream",
     "text": [
      "Shape of Covariance matrix: (7, 7)\n"
     ]
    }
   ],
   "source": [
    "print(f\"Shape of Covariance matrix: {cov_mat.shape}\")"
   ]
  },
  {
   "cell_type": "code",
   "execution_count": 11,
   "metadata": {},
   "outputs": [
    {
     "name": "stdout",
     "output_type": "stream",
     "text": [
      "Eigenvectors \n",
      "[[ 1.96461940e-02  1.93374633e-02  9.93133383e-01 -1.11524793e-01\n",
      "   1.69835736e-02  1.41400291e-02 -1.03422237e-04]\n",
      " [-1.47476685e-01  7.36801585e-01  4.56565529e-02  5.10347542e-01\n",
      "  -2.97845360e-02  5.45402035e-02  4.11063456e-01]\n",
      " [-4.14817993e-01  2.43742142e-01 -8.34161395e-02 -7.30754327e-01\n",
      "  -3.86400973e-02  3.86649279e-01  2.76703704e-01]\n",
      " [-4.18513681e-01 -4.11911597e-01  4.73713995e-02  1.46404768e-01\n",
      "  -6.50152245e-01 -2.43914612e-01  3.86399341e-01]\n",
      " [-4.89661778e-01 -5.03327185e-03  6.25004821e-04 -7.58126448e-02\n",
      "   5.76837208e-01 -6.47059880e-01  5.50491511e-02]\n",
      " [-4.13550396e-01 -3.91956339e-01  4.55872792e-02  3.99991583e-01\n",
      "   3.79642818e-01  6.07573716e-01 -5.85742986e-04]\n",
      " [ 4.68875676e-01 -2.72053278e-01 -1.79072470e-02 -7.70100107e-02\n",
      "   3.12671725e-01  1.05560304e-03  7.75968222e-01]]\n",
      "\n",
      "Eigenvalues \n",
      "[4.01258933e+00 1.49188781e+00 1.01007079e+00 3.98920598e-01\n",
      " 8.26951388e-02 2.72380749e-02 9.63188687e-06]\n"
     ]
    }
   ],
   "source": [
    "cov_mat = np.cov(x_stand.T)\n",
    "eig_vals, eig_vecs = np.linalg.eig(cov_mat)\n",
    "print('Eigenvectors \\n%s' %eig_vecs)\n",
    "print('\\nEigenvalues \\n%s' %eig_vals)\n"
   ]
  },
  {
   "cell_type": "code",
   "execution_count": 12,
   "metadata": {},
   "outputs": [
    {
     "data": {
      "text/plain": [
       "(7, 7)"
      ]
     },
     "execution_count": 12,
     "metadata": {},
     "output_type": "execute_result"
    }
   ],
   "source": [
    "eig_vecs.shape"
   ]
  },
  {
   "cell_type": "code",
   "execution_count": 13,
   "metadata": {},
   "outputs": [
    {
     "data": {
      "text/plain": [
       "(7,)"
      ]
     },
     "execution_count": 13,
     "metadata": {},
     "output_type": "execute_result"
    }
   ],
   "source": [
    "eig_vals.shape"
   ]
  },
  {
   "cell_type": "code",
   "execution_count": 16,
   "metadata": {},
   "outputs": [
    {
     "name": "stdout",
     "output_type": "stream",
     "text": [
      "<class 'list'>\n",
      "\n",
      " [(4.012589333118343, array([ 0.01964619, -0.14747669, -0.41481799, -0.41851368, -0.48966178,\n",
      "       -0.4135504 ,  0.46887568])), (1.491887809229828, array([ 0.01933746,  0.73680159,  0.24374214, -0.4119116 , -0.00503327,\n",
      "       -0.39195634, -0.27205328])), (1.0100707851735586, array([ 9.93133383e-01,  4.56565529e-02, -8.34161395e-02,  4.73713995e-02,\n",
      "        6.25004821e-04,  4.55872792e-02, -1.79072470e-02])), (0.3989205981961197, array([-0.11152479,  0.51034754, -0.73075433,  0.14640477, -0.07581264,\n",
      "        0.39999158, -0.07701001])), (0.08269513875024193, array([ 0.01698357, -0.02978454, -0.0386401 , -0.65015225,  0.57683721,\n",
      "        0.37964282,  0.31267172])), (0.02723807488249784, array([ 0.01414003,  0.0545402 ,  0.38664928, -0.24391461, -0.64705988,\n",
      "        0.60757372,  0.0010556 ])), (9.631886870688938e-06, array([-1.03422237e-04,  4.11063456e-01,  2.76703704e-01,  3.86399341e-01,\n",
      "        5.50491511e-02, -5.85742986e-04,  7.75968222e-01]))]\n",
      "\n",
      "\n",
      "\n",
      "Eigenvalues in descending order:\n",
      "4.012589333118343\n",
      "1.491887809229828\n",
      "1.0100707851735586\n",
      "0.3989205981961197\n",
      "0.08269513875024193\n",
      "0.02723807488249784\n",
      "9.631886870688938e-06\n"
     ]
    }
   ],
   "source": [
    "#Make a list of (eigenvalue, eigenvector) tuples\n",
    "eig_pairs = [(np.abs(eig_vals[i]), eig_vecs[:,i]) for i in range(len(eig_vals))]\n",
    "print(type(eig_pairs))\n",
    "#Sort the (eigenvalue, eigenvector) tuples from high to low\n",
    "eig_pairs.sort()\n",
    "eig_pairs.reverse()\n",
    "print(\"\\n\",eig_pairs)\n",
    "#Visually confirm that the list is correctly sorted by decreasing eigenvalues\n",
    "print('\\n\\n\\nEigenvalues in descending order:')\n",
    "for i in eig_pairs:\n",
    "     print(i[0])"
   ]
  },
  {
   "cell_type": "markdown",
   "metadata": {},
   "source": [
    "Explained Variance:\n",
    "After sorting the eigenpairs, the next question is “how many principal components are we going to choose for our new feature subspace?”\n",
    "A useful measure is the so-called “explained variance,” which can be calculated from the eigenvalues.\n",
    "The explained variance tells us how much information (variance) can be attributed to each of the principal components."
   ]
  },
  {
   "cell_type": "code",
   "execution_count": 17,
   "metadata": {},
   "outputs": [
    {
     "name": "stdout",
     "output_type": "stream",
     "text": [
      "Sum of Eigen values: 7.02341137123746\n",
      "\n",
      "\n",
      "1. Variance Explained\n",
      " [57.131629076304016, 21.241640712367545, 14.38148403651876, 5.679869469554275, 1.1774212612534443, 0.3878183042793739, 0.00013713972258742817]\n",
      "\n",
      "\n",
      "2. Cumulative Variance Explained\n",
      " [ 57.13162908  78.37326979  92.75475383  98.43462329  99.61204456\n",
      "  99.99986286 100.        ]\n",
      "\n",
      "\n",
      "3. Percentage of variance the first three principal components each contain\n",
      "  [57.131629076304016, 21.241640712367545, 14.38148403651876]\n",
      "\n",
      "\n",
      "4. Percentage of variance the first three principal components together contain\n",
      " 92.75475382519032\n"
     ]
    }
   ],
   "source": [
    "tot = sum(eig_vals)\n",
    "print(\"Sum of Eigen values:\",tot)\n",
    "var_exp = [(i / tot)*100 for i in sorted(eig_vals, reverse=True)]\n",
    "print(\"\\n\\n1. Variance Explained\\n\",var_exp)\n",
    "cum_var_exp = np.cumsum(var_exp)\n",
    "print(\"\\n\\n2. Cumulative Variance Explained\\n\",cum_var_exp)\n",
    "print(\"\\n\\n3. Percentage of variance the first three principal components each contain\\n \",var_exp[0:3])\n",
    "print(\"\\n\\n4. Percentage of variance the first three principal components together contain\\n\",sum(var_exp[0:3]))\n"
   ]
  },
  {
   "cell_type": "markdown",
   "metadata": {},
   "source": [
    "Constructing the projection matrix W from the selected k eigen vector"
   ]
  },
  {
   "cell_type": "code",
   "execution_count": 18,
   "metadata": {},
   "outputs": [
    {
     "name": "stdout",
     "output_type": "stream",
     "text": [
      "Matrix W:\n",
      " [[ 1.96461940e-02  1.93374633e-02  9.93133383e-01]\n",
      " [-1.47476685e-01  7.36801585e-01  4.56565529e-02]\n",
      " [-4.14817993e-01  2.43742142e-01 -8.34161395e-02]\n",
      " [-4.18513681e-01 -4.11911597e-01  4.73713995e-02]\n",
      " [-4.89661778e-01 -5.03327185e-03  6.25004821e-04]\n",
      " [-4.13550396e-01 -3.91956339e-01  4.55872792e-02]\n",
      " [ 4.68875676e-01 -2.72053278e-01 -1.79072470e-02]]\n"
     ]
    }
   ],
   "source": [
    "# selecting first 3 principal components (k=3)\n",
    "# here we are reducing the 7-dimensional feature space to a 3-dimensional feature subspace\n",
    "\n",
    "matrix_w = np.hstack((eig_pairs[0][1].reshape(7,1), \n",
    "                      eig_pairs[1][1].reshape(7,1),\n",
    "                      eig_pairs[2][1].reshape(7,1)))\n",
    "#hstack: Stacks arrays in sequence horizontally (column wise).\n",
    "print('Matrix W:\\n', matrix_w)"
   ]
  },
  {
   "cell_type": "code",
   "execution_count": 19,
   "metadata": {},
   "outputs": [
    {
     "data": {
      "text/plain": [
       "(7, 3)"
      ]
     },
     "execution_count": 19,
     "metadata": {},
     "output_type": "execute_result"
    }
   ],
   "source": [
    "matrix_w.shape"
   ]
  },
  {
   "cell_type": "code",
   "execution_count": 20,
   "metadata": {},
   "outputs": [
    {
     "data": {
      "text/html": [
       "<div>\n",
       "<style scoped>\n",
       "    .dataframe tbody tr th:only-of-type {\n",
       "        vertical-align: middle;\n",
       "    }\n",
       "\n",
       "    .dataframe tbody tr th {\n",
       "        vertical-align: top;\n",
       "    }\n",
       "\n",
       "    .dataframe thead th {\n",
       "        text-align: right;\n",
       "    }\n",
       "</style>\n",
       "<table border=\"1\" class=\"dataframe\">\n",
       "  <thead>\n",
       "    <tr style=\"text-align: right;\">\n",
       "      <th></th>\n",
       "      <th>principal component 1</th>\n",
       "      <th>principal component 2</th>\n",
       "      <th>principal component 3</th>\n",
       "    </tr>\n",
       "  </thead>\n",
       "  <tbody>\n",
       "    <tr>\n",
       "      <th>0</th>\n",
       "      <td>-4.251239</td>\n",
       "      <td>-2.699206</td>\n",
       "      <td>-0.845608</td>\n",
       "    </tr>\n",
       "    <tr>\n",
       "      <th>1</th>\n",
       "      <td>-4.309599</td>\n",
       "      <td>-2.634783</td>\n",
       "      <td>-0.845329</td>\n",
       "    </tr>\n",
       "    <tr>\n",
       "      <th>2</th>\n",
       "      <td>-4.040112</td>\n",
       "      <td>-2.606776</td>\n",
       "      <td>-0.843153</td>\n",
       "    </tr>\n",
       "    <tr>\n",
       "      <th>3</th>\n",
       "      <td>-3.811218</td>\n",
       "      <td>-2.295361</td>\n",
       "      <td>-0.853180</td>\n",
       "    </tr>\n",
       "    <tr>\n",
       "      <th>4</th>\n",
       "      <td>-3.849413</td>\n",
       "      <td>-2.226781</td>\n",
       "      <td>-0.874201</td>\n",
       "    </tr>\n",
       "    <tr>\n",
       "      <th>...</th>\n",
       "      <td>...</td>\n",
       "      <td>...</td>\n",
       "      <td>...</td>\n",
       "    </tr>\n",
       "    <tr>\n",
       "      <th>295</th>\n",
       "      <td>0.405789</td>\n",
       "      <td>0.380161</td>\n",
       "      <td>1.914619</td>\n",
       "    </tr>\n",
       "    <tr>\n",
       "      <th>296</th>\n",
       "      <td>0.271122</td>\n",
       "      <td>0.184269</td>\n",
       "      <td>0.481820</td>\n",
       "    </tr>\n",
       "    <tr>\n",
       "      <th>297</th>\n",
       "      <td>0.522218</td>\n",
       "      <td>0.406717</td>\n",
       "      <td>1.904720</td>\n",
       "    </tr>\n",
       "    <tr>\n",
       "      <th>298</th>\n",
       "      <td>0.588334</td>\n",
       "      <td>0.711859</td>\n",
       "      <td>-0.942744</td>\n",
       "    </tr>\n",
       "    <tr>\n",
       "      <th>299</th>\n",
       "      <td>0.653163</td>\n",
       "      <td>0.593038</td>\n",
       "      <td>-0.937592</td>\n",
       "    </tr>\n",
       "  </tbody>\n",
       "</table>\n",
       "<p>300 rows × 3 columns</p>\n",
       "</div>"
      ],
      "text/plain": [
       "     principal component 1  principal component 2  principal component 3\n",
       "0                -4.251239              -2.699206              -0.845608\n",
       "1                -4.309599              -2.634783              -0.845329\n",
       "2                -4.040112              -2.606776              -0.843153\n",
       "3                -3.811218              -2.295361              -0.853180\n",
       "4                -3.849413              -2.226781              -0.874201\n",
       "..                     ...                    ...                    ...\n",
       "295               0.405789               0.380161               1.914619\n",
       "296               0.271122               0.184269               0.481820\n",
       "297               0.522218               0.406717               1.904720\n",
       "298               0.588334               0.711859              -0.942744\n",
       "299               0.653163               0.593038              -0.937592\n",
       "\n",
       "[300 rows x 3 columns]"
      ]
     },
     "execution_count": 20,
     "metadata": {},
     "output_type": "execute_result"
    }
   ],
   "source": [
    "Y = x_stand.dot(matrix_w)\n",
    "principalDf = pd.DataFrame(data = Y, columns = ['principal component 1', 'principal component 2', 'principal component 3'])\n",
    "principalDf"
   ]
  },
  {
   "cell_type": "code",
   "execution_count": 21,
   "metadata": {},
   "outputs": [
    {
     "data": {
      "text/plain": [
       "array([4.93, 4.84, 4.95, 4.74, 4.67, 4.67, 4.63, 4.72, 4.93, 4.95, 4.98,\n",
       "       4.97, 4.91, 4.72, 4.67, 4.77, 4.47, 4.46, 4.53, 4.66, 5.08, 4.97,\n",
       "       4.68, 4.7 , 4.56, 4.8 , 4.91, 4.79, 4.78, 3.33, 3.05, 3.44, 3.27,\n",
       "       3.21, 3.32, 3.32, 3.35, 2.98, 3.02, 3.31, 3.36, 3.18, 3.31, 2.82,\n",
       "       2.76, 2.96, 3.36, 3.26, 2.99, 3.3 , 3.35, 3.36, 3.2 , 3.19, 2.94,\n",
       "       3.12, 3.17, 3.21, 3.25, 3.23, 3.  , 2.78, 2.96, 2.87, 3.09, 2.91,\n",
       "       2.64, 2.87, 2.73, 2.61, 2.51, 2.91, 3.01, 2.99, 3.02, 2.98, 2.86,\n",
       "       2.58, 3.05, 2.91, 2.58, 2.83, 2.67, 2.78, 3.18, 2.66, 2.94, 3.2 ,\n",
       "       3.28, 2.99, 2.91, 3.02, 3.12, 2.98, 2.96, 2.78, 3.02, 3.03, 3.02,\n",
       "       2.9 , 2.95, 2.95, 2.91, 2.99, 2.95, 2.94, 2.97, 2.99, 2.95, 2.88,\n",
       "       3.23, 2.82, 2.93, 2.94, 3.24, 3.26, 3.22, 3.2 , 2.58, 3.38, 3.33,\n",
       "       3.33, 2.59, 3.31, 2.58, 3.23, 3.19, 3.27, 3.26, 3.08, 3.22, 3.52,\n",
       "       3.6 , 3.42, 3.12, 3.1 , 3.42, 3.3 , 3.21, 3.46, 3.4 , 3.54, 3.57,\n",
       "       3.49, 2.85, 3.08, 3.26, 3.74, 3.5 , 3.46, 3.76, 3.75, 3.47, 3.6 ,\n",
       "       3.37, 3.47, 3.53, 3.7 , 3.52, 3.75, 3.5 , 3.72, 3.71, 3.78, 3.49,\n",
       "       3.96, 3.43, 3.36, 3.35, 3.59, 3.53, 3.67, 3.62, 3.65, 3.73, 3.77,\n",
       "       3.4 , 3.59, 3.56, 3.39, 3.57, 3.8 , 3.65, 3.6 , 3.61, 3.64, 3.63,\n",
       "       3.52, 3.51, 3.56, 3.23, 3.89, 3.61, 3.57, 3.6 , 3.59, 3.48, 3.66,\n",
       "       3.58, 3.49, 3.77, 3.79, 3.59, 3.79, 3.39, 3.6 , 3.09, 3.5 , 3.3 ,\n",
       "       2.83, 3.33, 3.34, 2.56, 3.33, 3.41, 3.34, 2.61, 3.53, 3.24, 3.22,\n",
       "       3.11, 3.2 , 3.2 , 3.3 , 3.38, 3.21, 3.23, 3.47, 3.33, 3.22, 3.31,\n",
       "       3.28, 3.39, 3.23, 3.12, 3.46, 2.93, 3.18, 3.23, 2.37, 2.42, 2.42,\n",
       "       2.45, 2.52, 2.28, 2.25, 2.33, 2.35, 2.52, 2.41, 2.48, 2.33, 2.4 ,\n",
       "       2.31, 2.39, 2.37, 2.36, 2.36, 2.45, 2.39, 2.4 , 2.4 , 2.43, 2.18,\n",
       "       2.4 , 2.41, 2.41, 2.35, 2.86, 2.97, 2.76, 2.81, 2.87, 2.72, 2.93,\n",
       "       2.88, 2.92, 2.77, 2.89, 2.76, 2.83, 2.85, 2.91, 2.78, 3.14, 2.81,\n",
       "       2.96, 2.92, 2.79, 2.91, 2.88, 2.78, 2.92, 2.94, 3.05, 2.91, 3.1 ,\n",
       "       2.92, 2.76, 2.81])"
      ]
     },
     "execution_count": 21,
     "metadata": {},
     "output_type": "execute_result"
    }
   ],
   "source": [
    "y"
   ]
  },
  {
   "cell_type": "code",
   "execution_count": 22,
   "metadata": {},
   "outputs": [
    {
     "data": {
      "text/html": [
       "<div>\n",
       "<style scoped>\n",
       "    .dataframe tbody tr th:only-of-type {\n",
       "        vertical-align: middle;\n",
       "    }\n",
       "\n",
       "    .dataframe tbody tr th {\n",
       "        vertical-align: top;\n",
       "    }\n",
       "\n",
       "    .dataframe thead th {\n",
       "        text-align: right;\n",
       "    }\n",
       "</style>\n",
       "<table border=\"1\" class=\"dataframe\">\n",
       "  <thead>\n",
       "    <tr style=\"text-align: right;\">\n",
       "      <th></th>\n",
       "      <th>principal component 1</th>\n",
       "      <th>principal component 2</th>\n",
       "      <th>principal component 3</th>\n",
       "      <th>cal</th>\n",
       "    </tr>\n",
       "  </thead>\n",
       "  <tbody>\n",
       "    <tr>\n",
       "      <th>0</th>\n",
       "      <td>-4.251239</td>\n",
       "      <td>-2.699206</td>\n",
       "      <td>-0.845608</td>\n",
       "      <td>4.93</td>\n",
       "    </tr>\n",
       "    <tr>\n",
       "      <th>1</th>\n",
       "      <td>-4.309599</td>\n",
       "      <td>-2.634783</td>\n",
       "      <td>-0.845329</td>\n",
       "      <td>4.84</td>\n",
       "    </tr>\n",
       "    <tr>\n",
       "      <th>2</th>\n",
       "      <td>-4.040112</td>\n",
       "      <td>-2.606776</td>\n",
       "      <td>-0.843153</td>\n",
       "      <td>4.95</td>\n",
       "    </tr>\n",
       "    <tr>\n",
       "      <th>3</th>\n",
       "      <td>-3.811218</td>\n",
       "      <td>-2.295361</td>\n",
       "      <td>-0.853180</td>\n",
       "      <td>4.74</td>\n",
       "    </tr>\n",
       "    <tr>\n",
       "      <th>4</th>\n",
       "      <td>-3.849413</td>\n",
       "      <td>-2.226781</td>\n",
       "      <td>-0.874201</td>\n",
       "      <td>4.67</td>\n",
       "    </tr>\n",
       "    <tr>\n",
       "      <th>...</th>\n",
       "      <td>...</td>\n",
       "      <td>...</td>\n",
       "      <td>...</td>\n",
       "      <td>...</td>\n",
       "    </tr>\n",
       "    <tr>\n",
       "      <th>295</th>\n",
       "      <td>0.405789</td>\n",
       "      <td>0.380161</td>\n",
       "      <td>1.914619</td>\n",
       "      <td>2.91</td>\n",
       "    </tr>\n",
       "    <tr>\n",
       "      <th>296</th>\n",
       "      <td>0.271122</td>\n",
       "      <td>0.184269</td>\n",
       "      <td>0.481820</td>\n",
       "      <td>3.10</td>\n",
       "    </tr>\n",
       "    <tr>\n",
       "      <th>297</th>\n",
       "      <td>0.522218</td>\n",
       "      <td>0.406717</td>\n",
       "      <td>1.904720</td>\n",
       "      <td>2.92</td>\n",
       "    </tr>\n",
       "    <tr>\n",
       "      <th>298</th>\n",
       "      <td>0.588334</td>\n",
       "      <td>0.711859</td>\n",
       "      <td>-0.942744</td>\n",
       "      <td>2.76</td>\n",
       "    </tr>\n",
       "    <tr>\n",
       "      <th>299</th>\n",
       "      <td>0.653163</td>\n",
       "      <td>0.593038</td>\n",
       "      <td>-0.937592</td>\n",
       "      <td>2.81</td>\n",
       "    </tr>\n",
       "  </tbody>\n",
       "</table>\n",
       "<p>300 rows × 4 columns</p>\n",
       "</div>"
      ],
      "text/plain": [
       "     principal component 1  principal component 2  principal component 3   cal\n",
       "0                -4.251239              -2.699206              -0.845608  4.93\n",
       "1                -4.309599              -2.634783              -0.845329  4.84\n",
       "2                -4.040112              -2.606776              -0.843153  4.95\n",
       "3                -3.811218              -2.295361              -0.853180  4.74\n",
       "4                -3.849413              -2.226781              -0.874201  4.67\n",
       "..                     ...                    ...                    ...   ...\n",
       "295               0.405789               0.380161               1.914619  2.91\n",
       "296               0.271122               0.184269               0.481820  3.10\n",
       "297               0.522218               0.406717               1.904720  2.92\n",
       "298               0.588334               0.711859              -0.942744  2.76\n",
       "299               0.653163               0.593038              -0.937592  2.81\n",
       "\n",
       "[300 rows x 4 columns]"
      ]
     },
     "execution_count": 22,
     "metadata": {},
     "output_type": "execute_result"
    }
   ],
   "source": [
    "finalDf = pd.concat([principalDf,pd.DataFrame(y, columns= ['cal'])], axis= 1)\n",
    "finalDf\n"
   ]
  },
  {
   "cell_type": "code",
   "execution_count": 25,
   "metadata": {},
   "outputs": [
    {
     "data": {
      "text/plain": [
       "(300, 4)"
      ]
     },
     "execution_count": 25,
     "metadata": {},
     "output_type": "execute_result"
    }
   ],
   "source": [
    "finalDf.shape"
   ]
  },
  {
   "cell_type": "markdown",
   "metadata": {},
   "source": [
    "Prediction without PCA"
   ]
  },
  {
   "cell_type": "code",
   "execution_count": 29,
   "metadata": {},
   "outputs": [],
   "source": [
    "from sklearn.model_selection import train_test_split\n",
    "from sklearn.linear_model import LinearRegression\n",
    "from sklearn.metrics import r2_score"
   ]
  },
  {
   "cell_type": "code",
   "execution_count": 30,
   "metadata": {},
   "outputs": [],
   "source": [
    "data = finaldf.values\n",
    "x,y = data[:,:-1], data[:,-1]\n",
    " # splitting in the ration 70:30\n",
    "x_train,x_test, y_train, y_test = train_test_split(x, y, test_size = 0.3, random_state = 0) "
   ]
  },
  {
   "cell_type": "code",
   "execution_count": 32,
   "metadata": {},
   "outputs": [
    {
     "data": {
      "text/plain": [
       "LinearRegression()"
      ]
     },
     "execution_count": 32,
     "metadata": {},
     "output_type": "execute_result"
    }
   ],
   "source": [
    "regr = LinearRegression()\n",
    "regr.fit(x_train, y_train)"
   ]
  },
  {
   "cell_type": "code",
   "execution_count": 34,
   "metadata": {},
   "outputs": [],
   "source": [
    "y_pred = regr.predict(x_test)"
   ]
  },
  {
   "cell_type": "code",
   "execution_count": 35,
   "metadata": {},
   "outputs": [
    {
     "name": "stdout",
     "output_type": "stream",
     "text": [
      "R2 Score: 0.9616622694434492\n"
     ]
    }
   ],
   "source": [
    "print('R2 Score:',r2_score(y_test, y_pred))"
   ]
  },
  {
   "cell_type": "code",
   "execution_count": 36,
   "metadata": {},
   "outputs": [
    {
     "data": {
      "image/png": "[encoded data removed]",
      "text/plain": [
       "<Figure size 432x288 with 1 Axes>"
      ]
     },
     "metadata": {
      "needs_background": "light"
     },
     "output_type": "display_data"
    }
   ],
   "source": [
    "fig = plt.figure()\n",
    "m, b = np.polyfit(y_test, y_pred, 1)\n",
    "plt.plot(y_test, m*y_test + b, color='black')\n",
    "plt.scatter(y_test, y_pred, alpha=.5)\n",
    "fig.suptitle('Actual vs Predicted Calories', fontsize = 20)    # Plot heading \n",
    "plt.xlabel('Actual', fontsize = 18)                         # X-label\n",
    "plt.ylabel('Predicted', fontsize = 18)                      # y-label\n",
    "plt.show()"
   ]
  },
  {
   "cell_type": "markdown",
   "metadata": {},
   "source": [
    "Prediction with PCA"
   ]
  },
  {
   "cell_type": "code",
   "execution_count": 47,
   "metadata": {},
   "outputs": [
    {
     "name": "stdout",
     "output_type": "stream",
     "text": [
      "    brand     id   mois   prot    fat   ash  sodium   carb   cal\n",
      "0       A  14069  27.82  21.43  44.87  5.11    1.77   0.77  4.93\n",
      "1       A  14053  28.49  21.26  43.89  5.34    1.79   1.02  4.84\n",
      "2       A  14025  28.35  19.99  45.78  5.08    1.63   0.80  4.95\n",
      "3       A  14016  30.55  20.15  43.13  4.79    1.61   1.38  4.74\n",
      "4       A  14005  30.49  21.28  41.65  4.82    1.64   1.76  4.67\n",
      "..    ...    ...    ...    ...    ...   ...     ...    ...   ...\n",
      "295     J  34044  44.91  11.07  17.00  2.49    0.66  25.36  2.91\n",
      "296     J  24069  43.15  11.79  18.46  2.43    0.67  24.17  3.10\n",
      "297     J  34039  44.55  11.01  16.03  2.43    0.64  25.98  2.92\n",
      "298     J  14044  47.60  10.43  15.18  2.32    0.56  24.47  2.76\n",
      "299     J  14045  46.84   9.91  15.50  2.27    0.57  25.48  2.81\n",
      "\n",
      "[300 rows x 9 columns]\n"
     ]
    }
   ],
   "source": [
    "A = pd.read_csv(r\"C:\\Users\\new\\Dropbox\\My PC (LAPTOP-VOB8LHM1)\\Downloads\\pca_dataset.csv\")\n",
    "print(A)"
   ]
  },
  {
   "cell_type": "code",
   "execution_count": 50,
   "metadata": {},
   "outputs": [],
   "source": [
    "x=A.iloc[:,1:-1].values\n",
    "y=A.iloc[:,-1].values\n",
    "# splitting in the ration 70:30\n",
    "x_train, x_test, y_train, y_test = train_test_split(x, y, test_size = 0.3, random_state = 0)  "
   ]
  },
  {
   "cell_type": "code",
   "execution_count": 51,
   "metadata": {},
   "outputs": [
    {
     "data": {
      "text/plain": [
       "LinearRegression()"
      ]
     },
     "execution_count": 51,
     "metadata": {},
     "output_type": "execute_result"
    }
   ],
   "source": [
    "regr = LinearRegression()\n",
    "regr.fit(x_train, y_train)"
   ]
  },
  {
   "cell_type": "code",
   "execution_count": 52,
   "metadata": {},
   "outputs": [],
   "source": [
    "y_pred = regr.predict(x_test)"
   ]
  },
  {
   "cell_type": "code",
   "execution_count": 54,
   "metadata": {},
   "outputs": [
    {
     "name": "stdout",
     "output_type": "stream",
     "text": [
      "R2 Score (with using PCA): 0.999725489843331\n"
     ]
    }
   ],
   "source": [
    "print('R2 Score (with using PCA):',r2_score(y_test, y_pred))"
   ]
  },
  {
   "cell_type": "code",
   "execution_count": 55,
   "metadata": {},
   "outputs": [
    {
     "data": {
      "image/png": "[encoded data removed]",
      "text/plain": [
       "<Figure size 432x288 with 1 Axes>"
      ]
     },
     "metadata": {
      "needs_background": "light"
     },
     "output_type": "display_data"
    }
   ],
   "source": [
    "fig = plt.figure()\n",
    "m, b = np.polyfit(y_test, y_pred, 1)\n",
    "plt.plot(y_test, m*y_test + b, color='black')\n",
    "plt.scatter(y_test, y_pred, alpha=.5)\n",
    "fig.suptitle('Actual vs Predicted Calories', fontsize = 20)    # Plot heading \n",
    "plt.xlabel('Actual', fontsize = 18)                         # X-label\n",
    "plt.ylabel('Predicted', fontsize = 18)                      # y-label\n",
    "plt.show()"
   ]
  },
  {
   "cell_type": "code",
   "execution_count": null,
   "metadata": {},
   "outputs": [],
   "source": []
  }
 ],
 "metadata": {
  "kernelspec": {
   "display_name": "Python 3",
   "language": "python",
   "name": "python3"
  },
  "language_info": {
   "codemirror_mode": {
    "name": "ipython",
    "version": 3
   },
   "file_extension": ".py",
   "mimetype": "text/x-python",
   "name": "python",
   "nbconvert_exporter": "python",
   "pygments_lexer": "ipython3",
   "version": "3.8.3"
  }
 },
 "nbformat": 4,
 "nbformat_minor": 4
}
